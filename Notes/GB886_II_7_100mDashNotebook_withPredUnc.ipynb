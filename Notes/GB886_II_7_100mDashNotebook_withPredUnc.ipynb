{
  "cells": [
    {
      "cell_type": "markdown",
      "metadata": {
        "colab_type": "text",
        "id": "view-in-github"
      },
      "source": [
        "<a href=\"https://colab.research.google.com/github/danielbauer1979/MSDIA_PredictiveModelingAndMachineLearning/blob/main/GB886_II_7_100mDashNotebook_withPredUnc.ipynb\" target=\"_parent\"><img src=\"https://colab.research.google.com/assets/colab-badge.svg\" alt=\"Open In Colab\"/></a>"
      ]
    },
    {
      "cell_type": "markdown",
      "metadata": {
        "id": "rQf87F92_Xxy"
      },
      "source": [
        "# Multivariate Ordinary Least-Squares (OLS) Regression\n",
        "\n",
        "In this module, we introduced linear regression modeling with $p$ predictors.  Hence, the data set will include $n$ observations $(y_i,x_{i,1},...,x_{i,p})$, $1 \\leq i \\leq n$, and we assume:\n",
        "$$\n",
        "y_i = f(x_i) + \\varepsilon_i = \\beta_0+\\sum_{j=1}^p \\beta_j\\,x_{i,j} + \\varepsilon_i.\n",
        "$$\n",
        "Like in the univariate case, OLS regression determines the estimate $\\hat{\\beta}$ that best approximates the training data in the *least-squares sense*:\n",
        "$$\n",
        "\\hat{\\beta}^{\\text{OLS}} = \\text{argmin}_{\\beta}\\left\\{\\sum_{i=1}^n \\left(y_i - \\left(\\beta_0 + \\sum_{j=1}^p \\beta_j\\,x_{i,j}\\right)\\right)^2 \\right\\}.\n",
        "$$\n",
        "The OLS estimate also still has nice properties as we had discussed in this module.\n",
        "\n",
        "Let's evaluate multivariate regression in our example setting of 100m dash times.\n",
        "\n",
        "We start by loading libraries. Here, importantly we consider two libraries for running linear regressions: [statsmodels](https://www.statsmodels.org/stable/index.html) and  [scikit-learn](https://scikit-learn.org/stable/).\n",
        "\n",
        "Statsmodels is a packaged with nice-looking output and it allows for nice regression output and also confortable input (e.g., formula-based more similar to the look and feel in `R`). Scikit-learn is one of the most popular predictive modeling toolboxes and we will use it for many (!) models/algorithms throughout this course:"
      ]
    },
    {
      "cell_type": "code",
      "execution_count": 1,
      "metadata": {
        "id": "zfAf2K2tyFgG"
      },
      "outputs": [],
      "source": [
        "import numpy as np\n",
        "import pandas as pd\n",
        "import matplotlib.pyplot as plt\n",
        "import scipy.stats as st\n",
        "import statsmodels.api as sm\n",
        "from sklearn.linear_model import LinearRegression"
      ]
    },
    {
      "cell_type": "markdown",
      "metadata": {
        "id": "FVPAIf88AR8N"
      },
      "source": [
        "## Getting the data\n",
        "\n",
        "To make the data available, we can clone the github repository for this class into your colab notebook, via (remove the hashtag of course):"
      ]
    },
    {
      "cell_type": "code",
      "execution_count": 2,
      "metadata": {
        "colab": {
          "base_uri": "https://localhost:8080/"
        },
        "id": "KvqgyO_bzLFW",
        "outputId": "3a6e027c-5cc6-4fab-d8ca-610f71376b13"
      },
      "outputs": [
        {
          "name": "stderr",
          "output_type": "stream",
          "text": [
            "Cloning into 'MSDIA_PredictiveModelingAndMachineLearning'...\n"
          ]
        }
      ],
      "source": [
        "!git clone https://github.com/danielbauer1979/MSDIA_PredictiveModelingAndMachineLearning.git"
      ]
    },
    {
      "cell_type": "markdown",
      "metadata": {
        "id": "LMKWe6JZAmko"
      },
      "source": [
        "If you now list the content..."
      ]
    },
    {
      "cell_type": "code",
      "execution_count": 3,
      "metadata": {
        "id": "BsHsEWRWAlsz"
      },
      "outputs": [
        {
          "name": "stderr",
          "output_type": "stream",
          "text": [
            "'ls' is not recognized as an internal or external command,\n",
            "operable program or batch file.\n"
          ]
        }
      ],
      "source": [
        "!ls"
      ]
    },
    {
      "cell_type": "markdown",
      "metadata": {
        "id": "vTEWzJodAtnu"
      },
      "source": [
        "you should see `MSDIA_PredictiveModelingAndMachineLearning` listed. And we can pull the data from there:"
      ]
    },
    {
      "cell_type": "code",
      "execution_count": 4,
      "metadata": {
        "id": "vviBOY8IzdvG"
      },
      "outputs": [
        {
          "data": {
            "text/html": [
              "<div>\n",
              "<style scoped>\n",
              "    .dataframe tbody tr th:only-of-type {\n",
              "        vertical-align: middle;\n",
              "    }\n",
              "\n",
              "    .dataframe tbody tr th {\n",
              "        vertical-align: top;\n",
              "    }\n",
              "\n",
              "    .dataframe thead th {\n",
              "        text-align: right;\n",
              "    }\n",
              "</style>\n",
              "<table border=\"1\" class=\"dataframe\">\n",
              "  <thead>\n",
              "    <tr style=\"text-align: right;\">\n",
              "      <th></th>\n",
              "      <th>Hair Length</th>\n",
              "      <th>Height</th>\n",
              "      <th>Time</th>\n",
              "    </tr>\n",
              "  </thead>\n",
              "  <tbody>\n",
              "    <tr>\n",
              "      <th>0</th>\n",
              "      <td>30.0</td>\n",
              "      <td>173.0</td>\n",
              "      <td>14.5</td>\n",
              "    </tr>\n",
              "    <tr>\n",
              "      <th>1</th>\n",
              "      <td>8.0</td>\n",
              "      <td>173.0</td>\n",
              "      <td>14.0</td>\n",
              "    </tr>\n",
              "    <tr>\n",
              "      <th>2</th>\n",
              "      <td>5.3</td>\n",
              "      <td>171.2</td>\n",
              "      <td>13.7</td>\n",
              "    </tr>\n",
              "    <tr>\n",
              "      <th>3</th>\n",
              "      <td>3.5</td>\n",
              "      <td>195.0</td>\n",
              "      <td>13.2</td>\n",
              "    </tr>\n",
              "    <tr>\n",
              "      <th>4</th>\n",
              "      <td>5.0</td>\n",
              "      <td>190.0</td>\n",
              "      <td>14.0</td>\n",
              "    </tr>\n",
              "  </tbody>\n",
              "</table>\n",
              "</div>"
            ],
            "text/plain": [
              "   Hair Length  Height  Time\n",
              "0         30.0   173.0  14.5\n",
              "1          8.0   173.0  14.0\n",
              "2          5.3   171.2  13.7\n",
              "3          3.5   195.0  13.2\n",
              "4          5.0   190.0  14.0"
            ]
          },
          "execution_count": 4,
          "metadata": {},
          "output_type": "execute_result"
        }
      ],
      "source": [
        "dash_data = pd.read_csv('MSDIA_PredictiveModelingAndMachineLearning/GB886_II_3_100mDashData.csv')\n",
        "dash_data.head()"
      ]
    },
    {
      "cell_type": "markdown",
      "metadata": {
        "id": "vG3O9jRiA2Fh"
      },
      "source": [
        "We can look at the data some. E.g. we can calculate sample statistics:"
      ]
    },
    {
      "cell_type": "code",
      "execution_count": 5,
      "metadata": {
        "id": "hxpFwGwZBA99"
      },
      "outputs": [
        {
          "data": {
            "text/html": [
              "<div>\n",
              "<style scoped>\n",
              "    .dataframe tbody tr th:only-of-type {\n",
              "        vertical-align: middle;\n",
              "    }\n",
              "\n",
              "    .dataframe tbody tr th {\n",
              "        vertical-align: top;\n",
              "    }\n",
              "\n",
              "    .dataframe thead th {\n",
              "        text-align: right;\n",
              "    }\n",
              "</style>\n",
              "<table border=\"1\" class=\"dataframe\">\n",
              "  <thead>\n",
              "    <tr style=\"text-align: right;\">\n",
              "      <th></th>\n",
              "      <th>Hair Length</th>\n",
              "      <th>Height</th>\n",
              "      <th>Time</th>\n",
              "    </tr>\n",
              "  </thead>\n",
              "  <tbody>\n",
              "    <tr>\n",
              "      <th>count</th>\n",
              "      <td>12.000000</td>\n",
              "      <td>12.000000</td>\n",
              "      <td>12.000000</td>\n",
              "    </tr>\n",
              "    <tr>\n",
              "      <th>mean</th>\n",
              "      <td>14.400000</td>\n",
              "      <td>174.600000</td>\n",
              "      <td>14.291667</td>\n",
              "    </tr>\n",
              "    <tr>\n",
              "      <th>std</th>\n",
              "      <td>11.168218</td>\n",
              "      <td>9.915644</td>\n",
              "      <td>1.320095</td>\n",
              "    </tr>\n",
              "    <tr>\n",
              "      <th>min</th>\n",
              "      <td>3.500000</td>\n",
              "      <td>161.000000</td>\n",
              "      <td>12.500000</td>\n",
              "    </tr>\n",
              "    <tr>\n",
              "      <th>25%</th>\n",
              "      <td>5.000000</td>\n",
              "      <td>169.500000</td>\n",
              "      <td>13.575000</td>\n",
              "    </tr>\n",
              "    <tr>\n",
              "      <th>50%</th>\n",
              "      <td>8.500000</td>\n",
              "      <td>172.100000</td>\n",
              "      <td>14.000000</td>\n",
              "    </tr>\n",
              "    <tr>\n",
              "      <th>75%</th>\n",
              "      <td>25.750000</td>\n",
              "      <td>179.250000</td>\n",
              "      <td>15.000000</td>\n",
              "    </tr>\n",
              "    <tr>\n",
              "      <th>max</th>\n",
              "      <td>30.000000</td>\n",
              "      <td>195.000000</td>\n",
              "      <td>17.000000</td>\n",
              "    </tr>\n",
              "  </tbody>\n",
              "</table>\n",
              "</div>"
            ],
            "text/plain": [
              "       Hair Length      Height       Time\n",
              "count    12.000000   12.000000  12.000000\n",
              "mean     14.400000  174.600000  14.291667\n",
              "std      11.168218    9.915644   1.320095\n",
              "min       3.500000  161.000000  12.500000\n",
              "25%       5.000000  169.500000  13.575000\n",
              "50%       8.500000  172.100000  14.000000\n",
              "75%      25.750000  179.250000  15.000000\n",
              "max      30.000000  195.000000  17.000000"
            ]
          },
          "execution_count": 5,
          "metadata": {},
          "output_type": "execute_result"
        }
      ],
      "source": [
        "dash_data.describe()"
      ]
    },
    {
      "cell_type": "markdown",
      "metadata": {
        "id": "klQvWELxA8Un"
      },
      "source": [
        "Or we can plot some key interactions:"
      ]
    },
    {
      "cell_type": "code",
      "execution_count": 6,
      "metadata": {
        "id": "yp3uFCibz5Pj"
      },
      "outputs": [
        {
          "data": {
            "image/png": "[encoded data removed]",
            "text/plain": [
              "<Figure size 640x480 with 1 Axes>"
            ]
          },
          "metadata": {},
          "output_type": "display_data"
        }
      ],
      "source": [
        "# @title Hair Length vs Height\n",
        "\n",
        "from matplotlib import pyplot as plt\n",
        "dash_data.plot(kind='scatter', x='Hair Length', y='Height', s=32, alpha=.8)\n",
        "plt.gca().spines[['top', 'right',]].set_visible(False)"
      ]
    },
    {
      "cell_type": "code",
      "execution_count": 7,
      "metadata": {
        "id": "0W9XgBlczxKJ"
      },
      "outputs": [
        {
          "data": {
            "image/png": "[encoded data removed]",
            "text/plain": [
              "<Figure size 640x480 with 1 Axes>"
            ]
          },
          "metadata": {},
          "output_type": "display_data"
        }
      ],
      "source": [
        "# @title Height vs Time\n",
        "\n",
        "from matplotlib import pyplot as plt\n",
        "dash_data.plot(kind='scatter', x='Height', y='Time', s=32, alpha=.8)\n",
        "plt.gca().spines[['top', 'right',]].set_visible(False)"
      ]
    },
    {
      "cell_type": "code",
      "execution_count": 8,
      "metadata": {
        "id": "vj6CtpULz-Bi"
      },
      "outputs": [
        {
          "data": {
            "image/png": "[encoded data removed]",
            "text/plain": [
              "<Figure size 640x480 with 1 Axes>"
            ]
          },
          "metadata": {},
          "output_type": "display_data"
        }
      ],
      "source": [
        "# @title Hair Length vs Time\n",
        "\n",
        "from matplotlib import pyplot as plt\n",
        "dash_data.plot(kind='scatter', x='Hair Length', y='Time', s=32, alpha=.8)\n",
        "plt.gca().spines[['top', 'right',]].set_visible(False)"
      ]
    },
    {
      "cell_type": "markdown",
      "metadata": {
        "id": "tjdOGpYhBSXS"
      },
      "source": [
        "## Running Regression Models\n",
        "\n",
        "### Via Statsmodels\n",
        "\n",
        "Let's run our linear regression via statsmodels:"
      ]
    },
    {
      "cell_type": "code",
      "execution_count": 9,
      "metadata": {
        "id": "Eiswr2f60OLZ"
      },
      "outputs": [
        {
          "data": {
            "text/html": [
              "<table class=\"simpletable\">\n",
              "<caption>OLS Regression Results</caption>\n",
              "<tr>\n",
              "  <th>Dep. Variable:</th>          <td>Time</td>       <th>  R-squared:         </th> <td>   0.685</td>\n",
              "</tr>\n",
              "<tr>\n",
              "  <th>Model:</th>                   <td>OLS</td>       <th>  Adj. R-squared:    </th> <td>   0.615</td>\n",
              "</tr>\n",
              "<tr>\n",
              "  <th>Method:</th>             <td>Least Squares</td>  <th>  F-statistic:       </th> <td>   9.791</td>\n",
              "</tr>\n",
              "<tr>\n",
              "  <th>Date:</th>             <td>Sat, 04 Oct 2025</td> <th>  Prob (F-statistic):</th>  <td>0.00552</td>\n",
              "</tr>\n",
              "<tr>\n",
              "  <th>Time:</th>                 <td>08:03:22</td>     <th>  Log-Likelihood:    </th> <td> -12.904</td>\n",
              "</tr>\n",
              "<tr>\n",
              "  <th>No. Observations:</th>      <td>    12</td>      <th>  AIC:               </th> <td>   31.81</td>\n",
              "</tr>\n",
              "<tr>\n",
              "  <th>Df Residuals:</th>          <td>     9</td>      <th>  BIC:               </th> <td>   33.26</td>\n",
              "</tr>\n",
              "<tr>\n",
              "  <th>Df Model:</th>              <td>     2</td>      <th>                     </th>     <td> </td>   \n",
              "</tr>\n",
              "<tr>\n",
              "  <th>Covariance Type:</th>      <td>nonrobust</td>    <th>                     </th>     <td> </td>   \n",
              "</tr>\n",
              "</table>\n",
              "<table class=\"simpletable\">\n",
              "<tr>\n",
              "       <td></td>          <th>coef</th>     <th>std err</th>      <th>t</th>      <th>P>|t|</th>  <th>[0.025</th>    <th>0.975]</th>  \n",
              "</tr>\n",
              "<tr>\n",
              "  <th>const</th>       <td>   18.7209</td> <td>    6.229</td> <td>    3.005</td> <td> 0.015</td> <td>    4.630</td> <td>   32.812</td>\n",
              "</tr>\n",
              "<tr>\n",
              "  <th>Hair Length</th> <td>    0.0765</td> <td>    0.030</td> <td>    2.542</td> <td> 0.032</td> <td>    0.008</td> <td>    0.145</td>\n",
              "</tr>\n",
              "<tr>\n",
              "  <th>Height</th>      <td>   -0.0317</td> <td>    0.034</td> <td>   -0.934</td> <td> 0.375</td> <td>   -0.108</td> <td>    0.045</td>\n",
              "</tr>\n",
              "</table>\n",
              "<table class=\"simpletable\">\n",
              "<tr>\n",
              "  <th>Omnibus:</th>       <td> 0.292</td> <th>  Durbin-Watson:     </th> <td>   2.652</td>\n",
              "</tr>\n",
              "<tr>\n",
              "  <th>Prob(Omnibus):</th> <td> 0.864</td> <th>  Jarque-Bera (JB):  </th> <td>   0.437</td>\n",
              "</tr>\n",
              "<tr>\n",
              "  <th>Skew:</th>          <td> 0.206</td> <th>  Prob(JB):          </th> <td>   0.804</td>\n",
              "</tr>\n",
              "<tr>\n",
              "  <th>Kurtosis:</th>      <td> 2.160</td> <th>  Cond. No.          </th> <td>4.62e+03</td>\n",
              "</tr>\n",
              "</table><br/><br/>Notes:<br/>[1] Standard Errors assume that the covariance matrix of the errors is correctly specified.<br/>[2] The condition number is large, 4.62e+03. This might indicate that there are<br/>strong multicollinearity or other numerical problems."
            ],
            "text/latex": [
              "\\begin{center}\n",
              "\\begin{tabular}{lclc}\n",
              "\\toprule\n",
              "\\textbf{Dep. Variable:}    &       Time       & \\textbf{  R-squared:         } &     0.685   \\\\\n",
              "\\textbf{Model:}            &       OLS        & \\textbf{  Adj. R-squared:    } &     0.615   \\\\\n",
              "\\textbf{Method:}           &  Least Squares   & \\textbf{  F-statistic:       } &     9.791   \\\\\n",
              "\\textbf{Date:}             & Sat, 04 Oct 2025 & \\textbf{  Prob (F-statistic):} &  0.00552    \\\\\n",
              "\\textbf{Time:}             &     08:03:22     & \\textbf{  Log-Likelihood:    } &   -12.904   \\\\\n",
              "\\textbf{No. Observations:} &          12      & \\textbf{  AIC:               } &     31.81   \\\\\n",
              "\\textbf{Df Residuals:}     &           9      & \\textbf{  BIC:               } &     33.26   \\\\\n",
              "\\textbf{Df Model:}         &           2      & \\textbf{                     } &             \\\\\n",
              "\\textbf{Covariance Type:}  &    nonrobust     & \\textbf{                     } &             \\\\\n",
              "\\bottomrule\n",
              "\\end{tabular}\n",
              "\\begin{tabular}{lcccccc}\n",
              "                     & \\textbf{coef} & \\textbf{std err} & \\textbf{t} & \\textbf{P$> |$t$|$} & \\textbf{[0.025} & \\textbf{0.975]}  \\\\\n",
              "\\midrule\n",
              "\\textbf{const}       &      18.7209  &        6.229     &     3.005  &         0.015        &        4.630    &       32.812     \\\\\n",
              "\\textbf{Hair Length} &       0.0765  &        0.030     &     2.542  &         0.032        &        0.008    &        0.145     \\\\\n",
              "\\textbf{Height}      &      -0.0317  &        0.034     &    -0.934  &         0.375        &       -0.108    &        0.045     \\\\\n",
              "\\bottomrule\n",
              "\\end{tabular}\n",
              "\\begin{tabular}{lclc}\n",
              "\\textbf{Omnibus:}       &  0.292 & \\textbf{  Durbin-Watson:     } &    2.652  \\\\\n",
              "\\textbf{Prob(Omnibus):} &  0.864 & \\textbf{  Jarque-Bera (JB):  } &    0.437  \\\\\n",
              "\\textbf{Skew:}          &  0.206 & \\textbf{  Prob(JB):          } &    0.804  \\\\\n",
              "\\textbf{Kurtosis:}      &  2.160 & \\textbf{  Cond. No.          } & 4.62e+03  \\\\\n",
              "\\bottomrule\n",
              "\\end{tabular}\n",
              "%\\caption{OLS Regression Results}\n",
              "\\end{center}\n",
              "\n",
              "Notes: \\newline\n",
              " [1] Standard Errors assume that the covariance matrix of the errors is correctly specified. \\newline\n",
              " [2] The condition number is large, 4.62e+03. This might indicate that there are \\newline\n",
              " strong multicollinearity or other numerical problems."
            ],
            "text/plain": [
              "<class 'statsmodels.iolib.summary.Summary'>\n",
              "\"\"\"\n",
              "                            OLS Regression Results                            \n",
              "==============================================================================\n",
              "Dep. Variable:                   Time   R-squared:                       0.685\n",
              "Model:                            OLS   Adj. R-squared:                  0.615\n",
              "Method:                 Least Squares   F-statistic:                     9.791\n",
              "Date:                Sat, 04 Oct 2025   Prob (F-statistic):            0.00552\n",
              "Time:                        08:03:22   Log-Likelihood:                -12.904\n",
              "No. Observations:                  12   AIC:                             31.81\n",
              "Df Residuals:                       9   BIC:                             33.26\n",
              "Df Model:                           2                                         \n",
              "Covariance Type:            nonrobust                                         \n",
              "===============================================================================\n",
              "                  coef    std err          t      P>|t|      [0.025      0.975]\n",
              "-------------------------------------------------------------------------------\n",
              "const          18.7209      6.229      3.005      0.015       4.630      32.812\n",
              "Hair Length     0.0765      0.030      2.542      0.032       0.008       0.145\n",
              "Height         -0.0317      0.034     -0.934      0.375      -0.108       0.045\n",
              "==============================================================================\n",
              "Omnibus:                        0.292   Durbin-Watson:                   2.652\n",
              "Prob(Omnibus):                  0.864   Jarque-Bera (JB):                0.437\n",
              "Skew:                           0.206   Prob(JB):                        0.804\n",
              "Kurtosis:                       2.160   Cond. No.                     4.62e+03\n",
              "==============================================================================\n",
              "\n",
              "Notes:\n",
              "[1] Standard Errors assume that the covariance matrix of the errors is correctly specified.\n",
              "[2] The condition number is large, 4.62e+03. This might indicate that there are\n",
              "strong multicollinearity or other numerical problems.\n",
              "\"\"\""
            ]
          },
          "execution_count": 9,
          "metadata": {},
          "output_type": "execute_result"
        }
      ],
      "source": [
        "y = dash_data['Time']\n",
        "X = dash_data.drop(columns=['Time'])\n",
        "X = sm.add_constant(X) # Add a constant term as the default model doesn't include one\n",
        "model_sm = sm.OLS(y, X).fit()\n",
        "# Check regression results\n",
        "model_sm.summary()"
      ]
    },
    {
      "cell_type": "code",
      "execution_count": 10,
      "metadata": {
        "id": "EOLeO4LymjIL"
      },
      "outputs": [
        {
          "data": {
            "text/plain": [
              "array([13.32461204])"
            ]
          },
          "execution_count": 10,
          "metadata": {},
          "output_type": "execute_result"
        }
      ],
      "source": [
        "model_sm.predict([[1,4, 180]])"
      ]
    },
    {
      "cell_type": "code",
      "execution_count": 11,
      "metadata": {
        "id": "5w8XZGhECeNT"
      },
      "outputs": [],
      "source": [
        "predob = model_sm.get_prediction([[1,4, 180]])"
      ]
    },
    {
      "cell_type": "code",
      "execution_count": 12,
      "metadata": {
        "id": "j-65UtiUCnt4"
      },
      "outputs": [
        {
          "data": {
            "text/plain": [
              "array([13.32461204])"
            ]
          },
          "execution_count": 12,
          "metadata": {},
          "output_type": "execute_result"
        }
      ],
      "source": [
        "predob.predicted_mean"
      ]
    },
    {
      "cell_type": "code",
      "execution_count": 13,
      "metadata": {
        "id": "fXeKYlY0CsvZ"
      },
      "outputs": [
        {
          "data": {
            "text/plain": [
              "array([0.33110286])"
            ]
          },
          "execution_count": 13,
          "metadata": {},
          "output_type": "execute_result"
        }
      ],
      "source": [
        "predob.se_mean"
      ]
    },
    {
      "cell_type": "code",
      "execution_count": 14,
      "metadata": {
        "id": "Pr9MGOxxC0cc"
      },
      "outputs": [
        {
          "data": {
            "text/plain": [
              "array([[12.57560533, 14.07361874]])"
            ]
          },
          "execution_count": 14,
          "metadata": {},
          "output_type": "execute_result"
        }
      ],
      "source": [
        "predob.conf_int(alpha=0.05)"
      ]
    },
    {
      "cell_type": "code",
      "execution_count": 15,
      "metadata": {
        "id": "9zc2rUcbEkTT"
      },
      "outputs": [
        {
          "data": {
            "text/plain": [
              "array([0.88334817])"
            ]
          },
          "execution_count": 15,
          "metadata": {},
          "output_type": "execute_result"
        }
      ],
      "source": [
        "predob.se_obs"
      ]
    },
    {
      "cell_type": "code",
      "execution_count": 16,
      "metadata": {
        "id": "o0vRiXDXDgvW"
      },
      "outputs": [
        {
          "data": {
            "text/html": [
              "<div>\n",
              "<style scoped>\n",
              "    .dataframe tbody tr th:only-of-type {\n",
              "        vertical-align: middle;\n",
              "    }\n",
              "\n",
              "    .dataframe tbody tr th {\n",
              "        vertical-align: top;\n",
              "    }\n",
              "\n",
              "    .dataframe thead th {\n",
              "        text-align: right;\n",
              "    }\n",
              "</style>\n",
              "<table border=\"1\" class=\"dataframe\">\n",
              "  <thead>\n",
              "    <tr style=\"text-align: right;\">\n",
              "      <th></th>\n",
              "      <th>mean</th>\n",
              "      <th>mean_se</th>\n",
              "      <th>mean_ci_lower</th>\n",
              "      <th>mean_ci_upper</th>\n",
              "      <th>obs_ci_lower</th>\n",
              "      <th>obs_ci_upper</th>\n",
              "    </tr>\n",
              "  </thead>\n",
              "  <tbody>\n",
              "    <tr>\n",
              "      <th>0</th>\n",
              "      <td>13.324612</td>\n",
              "      <td>0.331103</td>\n",
              "      <td>12.575605</td>\n",
              "      <td>14.073619</td>\n",
              "      <td>11.32634</td>\n",
              "      <td>15.322884</td>\n",
              "    </tr>\n",
              "  </tbody>\n",
              "</table>\n",
              "</div>"
            ],
            "text/plain": [
              "        mean   mean_se  mean_ci_lower  mean_ci_upper  obs_ci_lower  \\\n",
              "0  13.324612  0.331103      12.575605      14.073619      11.32634   \n",
              "\n",
              "   obs_ci_upper  \n",
              "0     15.322884  "
            ]
          },
          "execution_count": 16,
          "metadata": {},
          "output_type": "execute_result"
        }
      ],
      "source": [
        "predob.summary_frame(alpha=0.05)"
      ]
    },
    {
      "cell_type": "markdown",
      "metadata": {
        "id": "2LVy9_SBBoW3"
      },
      "source": [
        "### Via SkLearn\n",
        "\n",
        "Let's run our linear regression via statsmodels:"
      ]
    },
    {
      "cell_type": "code",
      "execution_count": 17,
      "metadata": {
        "id": "oqHH7FkS9xcJ"
      },
      "outputs": [
        {
          "name": "stdout",
          "output_type": "stream",
          "text": [
            "18.720861895215\n",
            "[ 0.0765368  -0.03167998]\n"
          ]
        }
      ],
      "source": [
        "y = dash_data['Time']\n",
        "X = dash_data.drop(columns=['Time'])\n",
        "model_sk = LinearRegression()\n",
        "model_sk.fit(X, y)\n",
        "print(model_sk.intercept_)\n",
        "print(model_sk.coef_)"
      ]
    },
    {
      "cell_type": "markdown",
      "metadata": {
        "id": "PpBQTvgeBvQh"
      },
      "source": [
        "## Predict\n",
        "\n",
        "Let's use our model to generate in-sample predictions:"
      ]
    },
    {
      "cell_type": "code",
      "execution_count": 18,
      "metadata": {
        "id": "keIB16cp-a8Z"
      },
      "outputs": [
        {
          "data": {
            "text/plain": [
              "array([15.53632872, 13.85251912, 13.70289373, 12.81114388, 13.084349  ,\n",
              "       15.69472863, 13.43282882, 15.63669499, 13.32461204, 15.53380452,\n",
              "       14.02409587, 14.86600067])"
            ]
          },
          "execution_count": 18,
          "metadata": {},
          "output_type": "execute_result"
        }
      ],
      "source": [
        "y_hat = model_sk.predict(X)\n",
        "y_hat"
      ]
    },
    {
      "cell_type": "markdown",
      "metadata": {
        "id": "qlNUB68HB3KP"
      },
      "source": [
        "with errors:"
      ]
    },
    {
      "cell_type": "code",
      "execution_count": 19,
      "metadata": {
        "id": "tKdaRMfe-j_t"
      },
      "outputs": [
        {
          "data": {
            "text/plain": [
              "0     1.036329\n",
              "1    -0.147481\n",
              "2     0.002894\n",
              "3    -0.388856\n",
              "4    -0.915651\n",
              "5     0.694729\n",
              "6     0.832829\n",
              "7    -1.363305\n",
              "8     0.824612\n",
              "9    -0.466195\n",
              "10    0.024096\n",
              "11   -0.133999\n",
              "Name: Time, dtype: float64"
            ]
          },
          "execution_count": 19,
          "metadata": {},
          "output_type": "execute_result"
        }
      ],
      "source": [
        "y_hat - y"
      ]
    },
    {
      "cell_type": "markdown",
      "metadata": {
        "id": "tuHveL_PB4m_"
      },
      "source": [
        "Some error metrics:\n",
        "\n",
        "1) Mean-Absolute Error (MAE):"
      ]
    },
    {
      "cell_type": "code",
      "execution_count": 20,
      "metadata": {
        "id": "TaLQ2Jqr-oyu"
      },
      "outputs": [
        {
          "data": {
            "text/plain": [
              "np.float64(0.5692479693744628)"
            ]
          },
          "execution_count": 20,
          "metadata": {},
          "output_type": "execute_result"
        }
      ],
      "source": [
        "np.average(np.abs(y_hat - y))"
      ]
    },
    {
      "cell_type": "markdown",
      "metadata": {
        "id": "JWH9apUsCBcE"
      },
      "source": [
        "2) Mean-Absolute Percentage Error (MAPE):"
      ]
    },
    {
      "cell_type": "code",
      "execution_count": 21,
      "metadata": {
        "id": "8CyPk5Ju-0kW"
      },
      "outputs": [
        {
          "data": {
            "text/plain": [
              "np.float64(0.039620561547345494)"
            ]
          },
          "execution_count": 21,
          "metadata": {},
          "output_type": "execute_result"
        }
      ],
      "source": [
        "np.average(np.abs((y_hat - y)/y))"
      ]
    },
    {
      "cell_type": "markdown",
      "metadata": {
        "id": "oGb55x9xCLCC"
      },
      "source": [
        "3) Root Mean-squared Error (RMSE):"
      ]
    },
    {
      "cell_type": "code",
      "execution_count": 22,
      "metadata": {
        "id": "AmX2hRcn-zXE"
      },
      "outputs": [
        {
          "data": {
            "text/plain": [
              "np.float64(0.7092292749583692)"
            ]
          },
          "execution_count": 22,
          "metadata": {},
          "output_type": "execute_result"
        }
      ],
      "source": [
        "np.sqrt(np.average((y_hat - y)*(y_hat - y)))"
      ]
    },
    {
      "cell_type": "code",
      "execution_count": 23,
      "metadata": {
        "id": "lnGF2Tm_hYRq"
      },
      "outputs": [
        {
          "name": "stderr",
          "output_type": "stream",
          "text": [
            "C:\\Users\\brown\\AppData\\Roaming\\Python\\Python313\\site-packages\\sklearn\\utils\\validation.py:2749: UserWarning: X does not have valid feature names, but LinearRegression was fitted with feature names\n",
            "  warnings.warn(\n"
          ]
        },
        {
          "data": {
            "text/plain": [
              "np.float64(13.993257287656123)"
            ]
          },
          "execution_count": 23,
          "metadata": {},
          "output_type": "execute_result"
        }
      ],
      "source": [
        "model_sk.predict([[4, 180], [20,170], [8,175]]).mean()"
      ]
    },
    {
      "cell_type": "markdown",
      "metadata": {},
      "source": [
        "### Lesson Quiz Question\n",
        "\n",
        "In the context of the regression model from the codebook, assume consider two new students:\n",
        "\n",
        "+ Jane is 175cm tall and her hair is 14.5cm long.\n",
        "+ Julio is 190cm tall and his hair is 25cm long.\n",
        "\n",
        "Use your prediction model and Python to determine 95% prediction intervals for both Jane and Julio. Is the following statement correct:\n",
        "\n",
        "\"The prediction intervals for Jane and Julio have the same width (i.e., the upper level minus the lower level is the same for both Jane and Julia).\""
      ]
    },
    {
      "cell_type": "code",
      "execution_count": 24,
      "metadata": {},
      "outputs": [],
      "source": [
        "# create new student data frame\n",
        "new_students = pd.DataFrame({'Hair Length': [14.5, 25], 'Height': [175, 190]})"
      ]
    },
    {
      "cell_type": "code",
      "execution_count": 25,
      "metadata": {},
      "outputs": [
        {
          "data": {
            "text/html": [
              "<div>\n",
              "<style scoped>\n",
              "    .dataframe tbody tr th:only-of-type {\n",
              "        vertical-align: middle;\n",
              "    }\n",
              "\n",
              "    .dataframe tbody tr th {\n",
              "        vertical-align: top;\n",
              "    }\n",
              "\n",
              "    .dataframe thead th {\n",
              "        text-align: right;\n",
              "    }\n",
              "</style>\n",
              "<table border=\"1\" class=\"dataframe\">\n",
              "  <thead>\n",
              "    <tr style=\"text-align: right;\">\n",
              "      <th></th>\n",
              "      <th>mean</th>\n",
              "      <th>mean_se</th>\n",
              "      <th>mean_ci_lower</th>\n",
              "      <th>mean_ci_upper</th>\n",
              "      <th>obs_ci_lower</th>\n",
              "      <th>obs_ci_upper</th>\n",
              "    </tr>\n",
              "  </thead>\n",
              "  <tbody>\n",
              "    <tr>\n",
              "      <th>0</th>\n",
              "      <td>14.286648</td>\n",
              "      <td>0.236935</td>\n",
              "      <td>13.750664</td>\n",
              "      <td>14.822632</td>\n",
              "      <td>12.358084</td>\n",
              "      <td>16.215213</td>\n",
              "    </tr>\n",
              "    <tr>\n",
              "      <th>1</th>\n",
              "      <td>14.615085</td>\n",
              "      <td>0.810543</td>\n",
              "      <td>12.781508</td>\n",
              "      <td>16.448662</td>\n",
              "      <td>12.008538</td>\n",
              "      <td>17.221632</td>\n",
              "    </tr>\n",
              "  </tbody>\n",
              "</table>\n",
              "</div>"
            ],
            "text/plain": [
              "        mean   mean_se  mean_ci_lower  mean_ci_upper  obs_ci_lower  \\\n",
              "0  14.286648  0.236935      13.750664      14.822632     12.358084   \n",
              "1  14.615085  0.810543      12.781508      16.448662     12.008538   \n",
              "\n",
              "   obs_ci_upper  \n",
              "0     16.215213  \n",
              "1     17.221632  "
            ]
          },
          "execution_count": 25,
          "metadata": {},
          "output_type": "execute_result"
        }
      ],
      "source": [
        "# Using sm model to get prediction intervals\n",
        "new_students_sm = sm.add_constant(new_students) # Add a constant term as the default model\n",
        "predob_new = model_sm.get_prediction(new_students_sm)\n",
        "predob_new.summary_frame(alpha=0.05)"
      ]
    },
    {
      "cell_type": "code",
      "execution_count": 26,
      "metadata": {},
      "outputs": [
        {
          "data": {
            "text/html": [
              "<div>\n",
              "<style scoped>\n",
              "    .dataframe tbody tr th:only-of-type {\n",
              "        vertical-align: middle;\n",
              "    }\n",
              "\n",
              "    .dataframe tbody tr th {\n",
              "        vertical-align: top;\n",
              "    }\n",
              "\n",
              "    .dataframe thead th {\n",
              "        text-align: right;\n",
              "    }\n",
              "</style>\n",
              "<table border=\"1\" class=\"dataframe\">\n",
              "  <thead>\n",
              "    <tr style=\"text-align: right;\">\n",
              "      <th></th>\n",
              "      <th>mean</th>\n",
              "      <th>mean_se</th>\n",
              "      <th>mean_ci_lower</th>\n",
              "      <th>mean_ci_upper</th>\n",
              "      <th>obs_ci_lower</th>\n",
              "      <th>obs_ci_upper</th>\n",
              "    </tr>\n",
              "  </thead>\n",
              "  <tbody>\n",
              "    <tr>\n",
              "      <th>0</th>\n",
              "      <td>14.286648</td>\n",
              "      <td>0.236935</td>\n",
              "      <td>13.913775</td>\n",
              "      <td>14.659521</td>\n",
              "      <td>12.944986</td>\n",
              "      <td>15.628311</td>\n",
              "    </tr>\n",
              "    <tr>\n",
              "      <th>1</th>\n",
              "      <td>14.615085</td>\n",
              "      <td>0.810543</td>\n",
              "      <td>13.339504</td>\n",
              "      <td>15.890666</td>\n",
              "      <td>12.801765</td>\n",
              "      <td>16.428405</td>\n",
              "    </tr>\n",
              "  </tbody>\n",
              "</table>\n",
              "</div>"
            ],
            "text/plain": [
              "        mean   mean_se  mean_ci_lower  mean_ci_upper  obs_ci_lower  \\\n",
              "0  14.286648  0.236935      13.913775      14.659521     12.944986   \n",
              "1  14.615085  0.810543      13.339504      15.890666     12.801765   \n",
              "\n",
              "   obs_ci_upper  \n",
              "0     15.628311  \n",
              "1     16.428405  "
            ]
          },
          "execution_count": 26,
          "metadata": {},
          "output_type": "execute_result"
        }
      ],
      "source": [
        "# Using the prediction model determine 85% prediction intervals for both Jane and Julio.\n",
        "predob_new.summary_frame(alpha=0.15)\n"
      ]
    },
    {
      "cell_type": "code",
      "execution_count": 27,
      "metadata": {},
      "outputs": [
        {
          "data": {
            "text/plain": [
              "(np.float64(2.68332438069951), np.float64(3.6266406545276197), np.False_)"
            ]
          },
          "execution_count": 27,
          "metadata": {},
          "output_type": "execute_result"
        }
      ],
      "source": [
        "# Determine if the prediction intervals for Jane and Julio have the same width (i.e., the upper level minus the lower level is the same for both Jane and Julia).\n",
        "jane_width = predob_new.summary_frame(alpha=0.15).iloc[0]['obs_ci_upper'] - predob_new.summary_frame(alpha=0.15).iloc[0]['obs_ci_lower']\n",
        "julio_width = predob_new.summary_frame(alpha=0.15).iloc[1]['obs_ci_upper'] - predob_new.summary_frame(alpha=0.15).iloc[1]['obs_ci_lower']\n",
        "jane_width, julio_width, jane_width == julio_width\n"
      ]
    }
  ],
  "metadata": {
    "colab": {
      "authorship_tag": "ABX9TyNlyCA5GjiR+nOJMrvNDyoM",
      "include_colab_link": true,
      "provenance": []
    },
    "kernelspec": {
      "display_name": "Python 3",
      "name": "python3"
    },
    "language_info": {
      "codemirror_mode": {
        "name": "ipython",
        "version": 3
      },
      "file_extension": ".py",
      "mimetype": "text/x-python",
      "name": "python",
      "nbconvert_exporter": "python",
      "pygments_lexer": "ipython3",
      "version": "3.13.6"
    }
  },
  "nbformat": 4,
  "nbformat_minor": 0
}
