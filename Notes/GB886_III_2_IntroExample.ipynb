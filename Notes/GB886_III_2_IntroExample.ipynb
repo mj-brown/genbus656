{
  "cells": [
    {
      "cell_type": "markdown",
      "metadata": {
        "id": "zjBZi0CJB9WT"
      },
      "source": [
        "## GB 886, Module 3, Introductory Example\n",
        "\n",
        "Let us define four different datasets each consisting of an outcome $y$ variable and one single feature $x$:\n",
        "* Data set I: $y$ variable given by the array `y1` below, $x$ variable given by the array `x1` below.\n",
        "* Data set II: $y$ variable given by the array `y2` below, $x$ variable given by the array `x2` below.\n",
        "* Data set III: $y$ variable given by the array `y3` below, $x$ variable given by the array `x3` below.\n",
        "* Data set IV: $y$ variable given by the array `y4` below, $x$ variable given by the array `x4` below.\n"
      ]
    },
    {
      "cell_type": "code",
      "execution_count": 3,
      "metadata": {
        "id": "exVPEKpuzRP7"
      },
      "outputs": [],
      "source": [
        "import matplotlib.pyplot as plt\n",
        "import numpy as np\n",
        "import pandas as pd\n",
        "import statsmodels.api as sm"
      ]
    },
    {
      "cell_type": "code",
      "execution_count": 5,
      "metadata": {
        "id": "Lx0k89zjzRP8"
      },
      "outputs": [],
      "source": [
        "x1 = [10, 8, 13, 9, 11, 14, 6, 4, 12, 7, 5]\n",
        "x2 = [10, 8, 13, 9, 11, 14, 6, 4, 12, 7, 5]\n",
        "x3 = [10, 8, 13, 9, 11, 14, 6, 4, 12, 7, 5]\n",
        "x4 = [8, 8, 8, 8, 8, 8, 8, 19, 8, 8, 8]\n",
        "y1 = [8.04, 6.95, 7.58, 8.81, 8.33, 9.96, 7.24, 4.26, 10.84, 4.82, 5.68]\n",
        "y2 = [9.14, 8.14, 8.74, 8.77, 9.26, 8.10, 6.13, 3.10, 9.13, 7.26, 4.74]\n",
        "y3 = [7.46, 6.77, 12.74, 7.11, 7.81, 8.84, 6.08, 5.39, 8.15, 6.42, 5.73]\n",
        "y4 = [6.58, 5.76, 7.71, 8.84, 8.47, 7.04, 5.25, 12.50, 5.56, 7.91, 6.89]\n",
        "\n",
        "datasets = {\n",
        "    'I': (x1, y1),\n",
        "    'II': (x2, y2),\n",
        "    'III': (x3, y3),\n",
        "    'IV': (x4, y4)\n",
        "}\n",
        "\n",
        "results = {}"
      ]
    },
    {
      "cell_type": "code",
      "execution_count": 6,
      "metadata": {},
      "outputs": [
        {
          "name": "stdout",
          "output_type": "stream",
          "text": [
            "Dataset I:\n",
            "                             OLS Regression Results                            \n",
            "==============================================================================\n",
            "Dep. Variable:                      y   R-squared:                       0.667\n",
            "Model:                            OLS   Adj. R-squared:                  0.629\n",
            "Method:                 Least Squares   F-statistic:                     17.99\n",
            "Date:                Mon, 06 Oct 2025   Prob (F-statistic):            0.00217\n",
            "Time:                        07:13:16   Log-Likelihood:                -16.841\n",
            "No. Observations:                  11   AIC:                             37.68\n",
            "Df Residuals:                       9   BIC:                             38.48\n",
            "Df Model:                           1                                         \n",
            "Covariance Type:            nonrobust                                         \n",
            "==============================================================================\n",
            "                 coef    std err          t      P>|t|      [0.025      0.975]\n",
            "------------------------------------------------------------------------------\n",
            "const          3.0001      1.125      2.667      0.026       0.456       5.544\n",
            "x1             0.5001      0.118      4.241      0.002       0.233       0.767\n",
            "==============================================================================\n",
            "Omnibus:                        0.082   Durbin-Watson:                   3.212\n",
            "Prob(Omnibus):                  0.960   Jarque-Bera (JB):                0.289\n",
            "Skew:                          -0.122   Prob(JB):                        0.865\n",
            "Kurtosis:                       2.244   Cond. No.                         29.1\n",
            "==============================================================================\n",
            "\n",
            "Notes:\n",
            "[1] Standard Errors assume that the covariance matrix of the errors is correctly specified. \n",
            "\n",
            "Dataset II:\n",
            "                             OLS Regression Results                            \n",
            "==============================================================================\n",
            "Dep. Variable:                      y   R-squared:                       0.666\n",
            "Model:                            OLS   Adj. R-squared:                  0.629\n",
            "Method:                 Least Squares   F-statistic:                     17.97\n",
            "Date:                Mon, 06 Oct 2025   Prob (F-statistic):            0.00218\n",
            "Time:                        07:13:16   Log-Likelihood:                -16.846\n",
            "No. Observations:                  11   AIC:                             37.69\n",
            "Df Residuals:                       9   BIC:                             38.49\n",
            "Df Model:                           1                                         \n",
            "Covariance Type:            nonrobust                                         \n",
            "==============================================================================\n",
            "                 coef    std err          t      P>|t|      [0.025      0.975]\n",
            "------------------------------------------------------------------------------\n",
            "const          3.0009      1.125      2.667      0.026       0.455       5.547\n",
            "x1             0.5000      0.118      4.239      0.002       0.233       0.767\n",
            "==============================================================================\n",
            "Omnibus:                        1.594   Durbin-Watson:                   2.188\n",
            "Prob(Omnibus):                  0.451   Jarque-Bera (JB):                1.108\n",
            "Skew:                          -0.567   Prob(JB):                        0.575\n",
            "Kurtosis:                       1.936   Cond. No.                         29.1\n",
            "==============================================================================\n",
            "\n",
            "Notes:\n",
            "[1] Standard Errors assume that the covariance matrix of the errors is correctly specified. \n",
            "\n",
            "Dataset III:\n",
            "                             OLS Regression Results                            \n",
            "==============================================================================\n",
            "Dep. Variable:                      y   R-squared:                       0.666\n",
            "Model:                            OLS   Adj. R-squared:                  0.629\n",
            "Method:                 Least Squares   F-statistic:                     17.97\n",
            "Date:                Mon, 06 Oct 2025   Prob (F-statistic):            0.00218\n",
            "Time:                        07:13:16   Log-Likelihood:                -16.838\n",
            "No. Observations:                  11   AIC:                             37.68\n",
            "Df Residuals:                       9   BIC:                             38.47\n",
            "Df Model:                           1                                         \n",
            "Covariance Type:            nonrobust                                         \n",
            "==============================================================================\n",
            "                 coef    std err          t      P>|t|      [0.025      0.975]\n",
            "------------------------------------------------------------------------------\n",
            "const          3.0025      1.124      2.670      0.026       0.459       5.546\n",
            "x1             0.4997      0.118      4.239      0.002       0.233       0.766\n",
            "==============================================================================\n",
            "Omnibus:                       19.540   Durbin-Watson:                   2.144\n",
            "Prob(Omnibus):                  0.000   Jarque-Bera (JB):               13.478\n",
            "Skew:                           2.041   Prob(JB):                      0.00118\n",
            "Kurtosis:                       6.571   Cond. No.                         29.1\n",
            "==============================================================================\n",
            "\n",
            "Notes:\n",
            "[1] Standard Errors assume that the covariance matrix of the errors is correctly specified. \n",
            "\n",
            "Dataset IV:\n",
            "                             OLS Regression Results                            \n",
            "==============================================================================\n",
            "Dep. Variable:                      y   R-squared:                       0.667\n",
            "Model:                            OLS   Adj. R-squared:                  0.630\n",
            "Method:                 Least Squares   F-statistic:                     18.00\n",
            "Date:                Mon, 06 Oct 2025   Prob (F-statistic):            0.00216\n",
            "Time:                        07:13:16   Log-Likelihood:                -16.833\n",
            "No. Observations:                  11   AIC:                             37.67\n",
            "Df Residuals:                       9   BIC:                             38.46\n",
            "Df Model:                           1                                         \n",
            "Covariance Type:            nonrobust                                         \n",
            "==============================================================================\n",
            "                 coef    std err          t      P>|t|      [0.025      0.975]\n",
            "------------------------------------------------------------------------------\n",
            "const          3.0017      1.124      2.671      0.026       0.459       5.544\n",
            "x1             0.4999      0.118      4.243      0.002       0.233       0.766\n",
            "==============================================================================\n",
            "Omnibus:                        0.555   Durbin-Watson:                   1.662\n",
            "Prob(Omnibus):                  0.758   Jarque-Bera (JB):                0.524\n",
            "Skew:                           0.010   Prob(JB):                        0.769\n",
            "Kurtosis:                       1.931   Cond. No.                         29.1\n",
            "==============================================================================\n",
            "\n",
            "Notes:\n",
            "[1] Standard Errors assume that the covariance matrix of the errors is correctly specified. \n",
            "\n"
          ]
        }
      ],
      "source": [
        "# Run regression for each dataset\n",
        "for name, (x, y) in datasets.items():\n",
        "    X = sm.add_constant(x)  # Adds a constant term to the predictor\n",
        "    model = sm.OLS(y, X).fit()\n",
        "    results[name] = model\n",
        "    print(f\"Dataset {name}:\\n\", model.summary(), \"\\n\")"
      ]
    }
  ],
  "metadata": {
    "colab": {
      "provenance": []
    },
    "kernelspec": {
      "display_name": "Python 3",
      "language": "python",
      "name": "python3"
    },
    "language_info": {
      "codemirror_mode": {
        "name": "ipython",
        "version": 3
      },
      "file_extension": ".py",
      "mimetype": "text/x-python",
      "name": "python",
      "nbconvert_exporter": "python",
      "pygments_lexer": "ipython3",
      "version": "3.13.6"
    }
  },
  "nbformat": 4,
  "nbformat_minor": 0
}
