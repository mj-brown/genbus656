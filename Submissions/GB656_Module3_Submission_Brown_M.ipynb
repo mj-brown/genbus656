{
 "cells": [
  {
   "cell_type": "markdown",
   "id": "084c5b01",
   "metadata": {},
   "source": [
    "# M3 | Submission: Baseball Runs Prediction\n",
    "\n",
    "Course: Gen Bus 656: Foundations of Statistical Learning for Business Analytics\\\n",
    "Author: Matthew Brown\\\n",
    "Date: October 11, 2025"
   ]
  },
  {
   "cell_type": "markdown",
   "id": "cfa7ea1b",
   "metadata": {},
   "source": [
    "## Submission Instructions\n",
    "\n",
    "1. Load data from either Github Repository (``https://github.com/danielbauer1979/MSDIA_PredictiveModelingAndMachineLearning``) or ``GB886_III_9_BBallLogs.csv`` data file. The data set includes all MLB games played in the league between 2006 and 20016 seasons. \n",
    "    + Each row is a game with information on the following:\n",
    "        + Home team\n",
    "        + Visiting team\n",
    "        + Season\n",
    "        + Month of the game\n",
    "        + Etc.\n",
    "2. Prepare data for modelings.\n",
    "3. Choose an appropriate GLM.\n",
    "4. Fit the GLM.\n",
    "5. Calculate the correlation between the predictios and the actual outcomes.\n",
    "6. Provide a scatter plot between actual outcomes and predictions.\n",
    "7. Pick a random MLB baseball game played in the 2017 season. Use the model to predict how many expected runs are to be scored by the home team (what is the predicted distribution?).\n",
    "8. Compare that to the actual number of rns scored by the home team. How well did the model perform?\n",
    "9. Submit work for review via a sharable link to the Colab Notebook."
   ]
  },
  {
   "cell_type": "markdown",
   "id": "c6e32af9",
   "metadata": {},
   "source": [
    "## Load Necessary Libraries"
   ]
  },
  {
   "cell_type": "code",
   "execution_count": null,
   "id": "75095f2e",
   "metadata": {},
   "outputs": [],
   "source": [
    "# Load required libraries\n",
    "\n",
    "import numpy as np\n",
    "import pandas as pd\n",
    "import matplotlib.pyplot as plt\n",
    "from sklearn.model_selection import train_test_split\n",
    "from sklearn.linear_model import PoissonRegressor\n",
    "from sklearn.linear_model import GammaRegressor"
   ]
  },
  {
   "cell_type": "markdown",
   "id": "e0814e46",
   "metadata": {},
   "source": [
    "## Load Data and Perform Summary Analysis"
   ]
  },
  {
   "cell_type": "code",
   "execution_count": null,
   "id": "433c6fdd",
   "metadata": {},
   "outputs": [],
   "source": [
    "# Clone into the course github repository\n",
    "!git clone https://github.com/danielbauer1979/MSDIA_PredictiveModelingAndMachineLearning.git"
   ]
  },
  {
   "cell_type": "code",
   "execution_count": null,
   "id": "7bc12924",
   "metadata": {},
   "outputs": [],
   "source": [
    "# load data from the repository into a dataframe\n",
    "bball_data = pd.read_csv('MSDIA_PredictiveModelingAndMachineLearning/GB886_III_9_BBallLogs.csv')\n",
    "bball_data.head()"
   ]
  },
  {
   "cell_type": "markdown",
   "id": "81cabe85",
   "metadata": {},
   "source": [
    "## Prepare Data for Modeling (GLM)"
   ]
  },
  {
   "cell_type": "markdown",
   "id": "8845c3d7",
   "metadata": {},
   "source": [
    "## Build, Train, and Validate GLM"
   ]
  },
  {
   "cell_type": "markdown",
   "id": "1ca84222",
   "metadata": {},
   "source": [
    "## Test GLM"
   ]
  }
 ],
 "metadata": {
  "kernelspec": {
   "display_name": "Python 3",
   "language": "python",
   "name": "python3"
  },
  "language_info": {
   "name": "python",
   "version": "3.13.6"
  }
 },
 "nbformat": 4,
 "nbformat_minor": 5
}
