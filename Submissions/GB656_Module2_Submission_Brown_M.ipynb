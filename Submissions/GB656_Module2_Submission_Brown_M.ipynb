{
 "cells": [
  {
   "cell_type": "markdown",
   "id": "51a292ae",
   "metadata": {},
   "source": [
    "# M2 | Submission: Wage Regression\n",
    "\n",
    "Course: Gen Bus 656: Foundations of Statistical Learning for Business Analytics\\\n",
    "Author: Matthew Brown\\\n",
    "Date: October 4, 2025"
   ]
  },
  {
   "cell_type": "markdown",
   "id": "c73c6bed",
   "metadata": {},
   "source": [
    "## Submission Instructions\n",
    "\n",
    "1. In the course GitHub repository, locate the file `'GB886_II_9_Wages_1985_Current_Population_Survey.csv'`. This data set is a cross-sectional sample from the May 1985 Current Population Survey by the US Census Bureau. \n",
    "2. These data include (hourly) wages for **534 individuals**, where we have information on: \n",
    "    + age\n",
    "    + sex (0 for male, 1 for female)\n",
    "    + race (H for Hispanic, W for White, O for Other)\n",
    "    + years of education\n",
    "    + et cetera\n",
    "3. Set up a Codebook that loads this datafile.\n",
    "4. Run a linear regression model that uses `Wage' as the outcome/target/dependent variable and all the available features/independent variables as variables (you will have to convert the categorical variables into dummy variables).\n",
    "5. Produce a regression table to include:\n",
    "    + R-squared\n",
    "    + RMSE\n",
    "    + MAE\n",
    "    + MAPE\n",
    "6. Discuss conclusions from your exercise to include: \n",
    "    + What are viable use cases and take-aways\n",
    "    + What are potentially problematic conclusions one shouldn't take away\n",
    "7. Submit your work for review via a sharable link to your Colab Codebook."
   ]
  },
  {
   "cell_type": "markdown",
   "id": "00febeef",
   "metadata": {},
   "source": [
    "## Load Necessary Libraries"
   ]
  },
  {
   "cell_type": "code",
   "execution_count": 1,
   "id": "afd1ed1a",
   "metadata": {},
   "outputs": [],
   "source": [
    "# Load necessary libraries\n",
    "import numpy as np\n",
    "import matplotlib.pyplot as plt\n",
    "import pandas as pd\n",
    "import statsmodels.api as sm"
   ]
  },
  {
   "cell_type": "markdown",
   "id": "cc69f9d3",
   "metadata": {},
   "source": [
    "## Load Data into Dataframe"
   ]
  },
  {
   "cell_type": "code",
   "execution_count": 3,
   "id": "d8073a41",
   "metadata": {},
   "outputs": [
    {
     "name": "stderr",
     "output_type": "stream",
     "text": [
      "Cloning into 'MSDIA_PredictiveModelingAndMachineLearning'...\n"
     ]
    }
   ],
   "source": [
    "# Clone into the course github repository\n",
    "!git clone https://github.com/danielbauer1979/MSDIA_PredictiveModelingAndMachineLearning.git"
   ]
  },
  {
   "cell_type": "code",
   "execution_count": 4,
   "id": "1ac7296a",
   "metadata": {},
   "outputs": [
    {
     "data": {
      "text/html": [
       "<div>\n",
       "<style scoped>\n",
       "    .dataframe tbody tr th:only-of-type {\n",
       "        vertical-align: middle;\n",
       "    }\n",
       "\n",
       "    .dataframe tbody tr th {\n",
       "        vertical-align: top;\n",
       "    }\n",
       "\n",
       "    .dataframe thead th {\n",
       "        text-align: right;\n",
       "    }\n",
       "</style>\n",
       "<table border=\"1\" class=\"dataframe\">\n",
       "  <thead>\n",
       "    <tr style=\"text-align: right;\">\n",
       "      <th></th>\n",
       "      <th>Yrs_Ed</th>\n",
       "      <th>Sthrn_Rgn</th>\n",
       "      <th>Sex</th>\n",
       "      <th>Yrs_Exprnc</th>\n",
       "      <th>Union</th>\n",
       "      <th>Wage</th>\n",
       "      <th>Age</th>\n",
       "      <th>Race</th>\n",
       "      <th>Occup</th>\n",
       "      <th>Sect</th>\n",
       "      <th>Marr</th>\n",
       "    </tr>\n",
       "  </thead>\n",
       "  <tbody>\n",
       "    <tr>\n",
       "      <th>0</th>\n",
       "      <td>8</td>\n",
       "      <td>0</td>\n",
       "      <td>1</td>\n",
       "      <td>21</td>\n",
       "      <td>0</td>\n",
       "      <td>5.10</td>\n",
       "      <td>35</td>\n",
       "      <td>H</td>\n",
       "      <td>Other</td>\n",
       "      <td>Manf</td>\n",
       "      <td>1</td>\n",
       "    </tr>\n",
       "    <tr>\n",
       "      <th>1</th>\n",
       "      <td>9</td>\n",
       "      <td>0</td>\n",
       "      <td>1</td>\n",
       "      <td>42</td>\n",
       "      <td>0</td>\n",
       "      <td>4.95</td>\n",
       "      <td>57</td>\n",
       "      <td>W</td>\n",
       "      <td>Other</td>\n",
       "      <td>Manf</td>\n",
       "      <td>1</td>\n",
       "    </tr>\n",
       "    <tr>\n",
       "      <th>2</th>\n",
       "      <td>12</td>\n",
       "      <td>0</td>\n",
       "      <td>0</td>\n",
       "      <td>1</td>\n",
       "      <td>0</td>\n",
       "      <td>6.67</td>\n",
       "      <td>19</td>\n",
       "      <td>W</td>\n",
       "      <td>Other</td>\n",
       "      <td>Manf</td>\n",
       "      <td>0</td>\n",
       "    </tr>\n",
       "    <tr>\n",
       "      <th>3</th>\n",
       "      <td>12</td>\n",
       "      <td>0</td>\n",
       "      <td>0</td>\n",
       "      <td>4</td>\n",
       "      <td>0</td>\n",
       "      <td>4.00</td>\n",
       "      <td>22</td>\n",
       "      <td>W</td>\n",
       "      <td>Other</td>\n",
       "      <td>Other</td>\n",
       "      <td>0</td>\n",
       "    </tr>\n",
       "    <tr>\n",
       "      <th>4</th>\n",
       "      <td>12</td>\n",
       "      <td>0</td>\n",
       "      <td>0</td>\n",
       "      <td>17</td>\n",
       "      <td>0</td>\n",
       "      <td>7.50</td>\n",
       "      <td>35</td>\n",
       "      <td>W</td>\n",
       "      <td>Other</td>\n",
       "      <td>Other</td>\n",
       "      <td>1</td>\n",
       "    </tr>\n",
       "  </tbody>\n",
       "</table>\n",
       "</div>"
      ],
      "text/plain": [
       "   Yrs_Ed  Sthrn_Rgn  Sex  Yrs_Exprnc  Union  Wage  Age Race  Occup   Sect  \\\n",
       "0       8          0    1          21      0  5.10   35    H  Other   Manf   \n",
       "1       9          0    1          42      0  4.95   57    W  Other   Manf   \n",
       "2      12          0    0           1      0  6.67   19    W  Other   Manf   \n",
       "3      12          0    0           4      0  4.00   22    W  Other  Other   \n",
       "4      12          0    0          17      0  7.50   35    W  Other  Other   \n",
       "\n",
       "   Marr  \n",
       "0     1  \n",
       "1     1  \n",
       "2     0  \n",
       "3     0  \n",
       "4     1  "
      ]
     },
     "execution_count": 4,
     "metadata": {},
     "output_type": "execute_result"
    }
   ],
   "source": [
    "# Load data from csv file in the repository into wages dataframe if coming from github repo.\n",
    "wages_df = pd.read_csv('MSDIA_PredictiveModelingAndMachineLearning/GB886_II_9_Wages_1985_Current_Population_Survey.csv')\n",
    "wages_df.head()"
   ]
  },
  {
   "cell_type": "code",
   "execution_count": null,
   "id": "0bbe426b",
   "metadata": {},
   "outputs": [
    {
     "data": {
      "text/html": [
       "<div>\n",
       "<style scoped>\n",
       "    .dataframe tbody tr th:only-of-type {\n",
       "        vertical-align: middle;\n",
       "    }\n",
       "\n",
       "    .dataframe tbody tr th {\n",
       "        vertical-align: top;\n",
       "    }\n",
       "\n",
       "    .dataframe thead th {\n",
       "        text-align: right;\n",
       "    }\n",
       "</style>\n",
       "<table border=\"1\" class=\"dataframe\">\n",
       "  <thead>\n",
       "    <tr style=\"text-align: right;\">\n",
       "      <th></th>\n",
       "      <th>Yrs_Ed</th>\n",
       "      <th>Sthrn_Rgn</th>\n",
       "      <th>Sex</th>\n",
       "      <th>Yrs_Exprnc</th>\n",
       "      <th>Union</th>\n",
       "      <th>Wage</th>\n",
       "      <th>Age</th>\n",
       "      <th>Race</th>\n",
       "      <th>Occup</th>\n",
       "      <th>Sect</th>\n",
       "      <th>Marr</th>\n",
       "    </tr>\n",
       "  </thead>\n",
       "  <tbody>\n",
       "    <tr>\n",
       "      <th>0</th>\n",
       "      <td>8</td>\n",
       "      <td>0</td>\n",
       "      <td>1</td>\n",
       "      <td>21</td>\n",
       "      <td>0</td>\n",
       "      <td>5.10</td>\n",
       "      <td>35</td>\n",
       "      <td>H</td>\n",
       "      <td>Other</td>\n",
       "      <td>Manf</td>\n",
       "      <td>1</td>\n",
       "    </tr>\n",
       "    <tr>\n",
       "      <th>1</th>\n",
       "      <td>9</td>\n",
       "      <td>0</td>\n",
       "      <td>1</td>\n",
       "      <td>42</td>\n",
       "      <td>0</td>\n",
       "      <td>4.95</td>\n",
       "      <td>57</td>\n",
       "      <td>W</td>\n",
       "      <td>Other</td>\n",
       "      <td>Manf</td>\n",
       "      <td>1</td>\n",
       "    </tr>\n",
       "    <tr>\n",
       "      <th>2</th>\n",
       "      <td>12</td>\n",
       "      <td>0</td>\n",
       "      <td>0</td>\n",
       "      <td>1</td>\n",
       "      <td>0</td>\n",
       "      <td>6.67</td>\n",
       "      <td>19</td>\n",
       "      <td>W</td>\n",
       "      <td>Other</td>\n",
       "      <td>Manf</td>\n",
       "      <td>0</td>\n",
       "    </tr>\n",
       "    <tr>\n",
       "      <th>3</th>\n",
       "      <td>12</td>\n",
       "      <td>0</td>\n",
       "      <td>0</td>\n",
       "      <td>4</td>\n",
       "      <td>0</td>\n",
       "      <td>4.00</td>\n",
       "      <td>22</td>\n",
       "      <td>W</td>\n",
       "      <td>Other</td>\n",
       "      <td>Other</td>\n",
       "      <td>0</td>\n",
       "    </tr>\n",
       "    <tr>\n",
       "      <th>4</th>\n",
       "      <td>12</td>\n",
       "      <td>0</td>\n",
       "      <td>0</td>\n",
       "      <td>17</td>\n",
       "      <td>0</td>\n",
       "      <td>7.50</td>\n",
       "      <td>35</td>\n",
       "      <td>W</td>\n",
       "      <td>Other</td>\n",
       "      <td>Other</td>\n",
       "      <td>1</td>\n",
       "    </tr>\n",
       "  </tbody>\n",
       "</table>\n",
       "</div>"
      ],
      "text/plain": [
       "   Yrs_Ed  Sthrn_Rgn  Sex  Yrs_Exprnc  Union  Wage  Age Race  Occup   Sect  \\\n",
       "0       8          0    1          21      0  5.10   35    H  Other   Manf   \n",
       "1       9          0    1          42      0  4.95   57    W  Other   Manf   \n",
       "2      12          0    0           1      0  6.67   19    W  Other   Manf   \n",
       "3      12          0    0           4      0  4.00   22    W  Other  Other   \n",
       "4      12          0    0          17      0  7.50   35    W  Other  Other   \n",
       "\n",
       "   Marr  \n",
       "0     1  \n",
       "1     1  \n",
       "2     0  \n",
       "3     0  \n",
       "4     1  "
      ]
     },
     "execution_count": 2,
     "metadata": {},
     "output_type": "execute_result"
    }
   ],
   "source": [
    "# Load data from csv file into wages dataframe if coming from local drive.\n",
    "#wages_df = pd.read_csv('../Data/GB886_II_9_Wages_1985_Current_Population_Survey.csv')\n",
    "#wages_df.head()"
   ]
  },
  {
   "cell_type": "markdown",
   "id": "88ba28aa",
   "metadata": {},
   "source": [
    "## Prepare Data for Model"
   ]
  },
  {
   "cell_type": "markdown",
   "id": "13262dfc",
   "metadata": {},
   "source": [
    "## Run Linear Regression Model"
   ]
  },
  {
   "cell_type": "markdown",
   "id": "dbd984dc",
   "metadata": {},
   "source": [
    "### Train Linear Regression Model"
   ]
  },
  {
   "cell_type": "markdown",
   "id": "6aa08064",
   "metadata": {},
   "source": [
    "### Calculate Required Metrics"
   ]
  },
  {
   "cell_type": "markdown",
   "id": "348c83e1",
   "metadata": {},
   "source": [
    "### Discuss Findings and Conclusions"
   ]
  }
 ],
 "metadata": {
  "kernelspec": {
   "display_name": "Python 3",
   "language": "python",
   "name": "python3"
  },
  "language_info": {
   "codemirror_mode": {
    "name": "ipython",
    "version": 3
   },
   "file_extension": ".py",
   "mimetype": "text/x-python",
   "name": "python",
   "nbconvert_exporter": "python",
   "pygments_lexer": "ipython3",
   "version": "3.13.6"
  }
 },
 "nbformat": 4,
 "nbformat_minor": 5
}
